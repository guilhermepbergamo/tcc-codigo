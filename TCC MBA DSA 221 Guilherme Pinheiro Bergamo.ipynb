{
 "cells": [
  {
   "cell_type": "markdown",
   "id": "93f8d56b",
   "metadata": {},
   "source": [
    "## Etapas do projeto:\n",
    "1. Definição do Problema de Negócio e Objetivo do projeto\n",
    "2. Coleta e preparação dos dados\n",
    "3. Análise Exploratória de Dados\n",
    "4. Pré-processamento de Dados\n",
    "5. Modelagem e Avaliação do Modelo\n",
    "6. Interpretação dos Resultados\n",
    "7. Deploy do Modelo\n",
    "8. Aplicação do Modelo"
   ]
  },
  {
   "cell_type": "code",
   "execution_count": 2,
   "id": "1252f88c",
   "metadata": {},
   "outputs": [],
   "source": [
    "import pandas as pd\n",
    "import matplotlib.pyplot as plt\n",
    "import seaborn as sns\n",
    "import numpy as np\n",
    "from sklearn.preprocessing import LabelEncoder, OneHotEncoder\n",
    "from sklearn.model_selection import train_test_split\n",
    "from sklearn.ensemble import RandomForestRegressor\n",
    "from sklearn.metrics import mean_squared_error, mean_absolute_error, r2_score\n",
    "from sklearn.model_selection import GridSearchCV\n",
    "from sklearn.tree import DecisionTreeRegressor\n",
    "from sklearn.linear_model import LinearRegression"
   ]
  },
  {
   "cell_type": "code",
   "execution_count": 3,
   "id": "3976213a",
   "metadata": {},
   "outputs": [],
   "source": [
    "#Importando o arquivo csv\n",
    "dataset = pd.read_csv('C:/Users/guipi/Desktop/tcc codigo/mostpopularsongsalltime.csv', encoding = \"ISO-8859-1\")"
   ]
  },
  {
   "cell_type": "code",
   "execution_count": 4,
   "id": "4a47ab7c",
   "metadata": {},
   "outputs": [
    {
     "data": {
      "text/html": [
       "<div>\n",
       "<style scoped>\n",
       "    .dataframe tbody tr th:only-of-type {\n",
       "        vertical-align: middle;\n",
       "    }\n",
       "\n",
       "    .dataframe tbody tr th {\n",
       "        vertical-align: top;\n",
       "    }\n",
       "\n",
       "    .dataframe thead th {\n",
       "        text-align: right;\n",
       "    }\n",
       "</style>\n",
       "<table border=\"1\" class=\"dataframe\">\n",
       "  <thead>\n",
       "    <tr style=\"text-align: right;\">\n",
       "      <th></th>\n",
       "      <th>Track Name</th>\n",
       "      <th>Artist Name</th>\n",
       "      <th>Album Name</th>\n",
       "      <th>Release Date</th>\n",
       "      <th>Popularity</th>\n",
       "      <th>Duration (ms)</th>\n",
       "      <th>Danceability</th>\n",
       "      <th>Energy</th>\n",
       "      <th>Key</th>\n",
       "      <th>Loudness</th>\n",
       "      <th>Mode</th>\n",
       "      <th>Speechiness</th>\n",
       "      <th>Acousticness</th>\n",
       "      <th>Instrumentalness</th>\n",
       "      <th>Liveness</th>\n",
       "      <th>Valence</th>\n",
       "      <th>Tempo</th>\n",
       "    </tr>\n",
       "  </thead>\n",
       "  <tbody>\n",
       "    <tr>\n",
       "      <th>0</th>\n",
       "      <td>Blinding Lights</td>\n",
       "      <td>The Weeknd</td>\n",
       "      <td>After Hours (Deluxe)</td>\n",
       "      <td>2020-04-03</td>\n",
       "      <td>49</td>\n",
       "      <td>200046</td>\n",
       "      <td>0.518</td>\n",
       "      <td>0.727</td>\n",
       "      <td>1</td>\n",
       "      <td>-5.947</td>\n",
       "      <td>1</td>\n",
       "      <td>0.0557</td>\n",
       "      <td>0.00153</td>\n",
       "      <td>0.000152</td>\n",
       "      <td>0.0882</td>\n",
       "      <td>0.342</td>\n",
       "      <td>170.962</td>\n",
       "    </tr>\n",
       "    <tr>\n",
       "      <th>1</th>\n",
       "      <td>Shape of You</td>\n",
       "      <td>Ed Sheeran</td>\n",
       "      <td>Ã· (Deluxe)</td>\n",
       "      <td>2017-03-03</td>\n",
       "      <td>88</td>\n",
       "      <td>233713</td>\n",
       "      <td>0.825</td>\n",
       "      <td>0.652</td>\n",
       "      <td>1</td>\n",
       "      <td>-3.183</td>\n",
       "      <td>0</td>\n",
       "      <td>0.0802</td>\n",
       "      <td>0.58100</td>\n",
       "      <td>0.000000</td>\n",
       "      <td>0.0931</td>\n",
       "      <td>0.931</td>\n",
       "      <td>95.977</td>\n",
       "    </tr>\n",
       "    <tr>\n",
       "      <th>2</th>\n",
       "      <td>Someone You Loved</td>\n",
       "      <td>Lewis Capaldi</td>\n",
       "      <td>Divinely Uninspired To A Hellish Extent (Exten...</td>\n",
       "      <td>2019-11-22</td>\n",
       "      <td>50</td>\n",
       "      <td>182173</td>\n",
       "      <td>0.501</td>\n",
       "      <td>0.405</td>\n",
       "      <td>1</td>\n",
       "      <td>-5.679</td>\n",
       "      <td>1</td>\n",
       "      <td>0.0319</td>\n",
       "      <td>0.75100</td>\n",
       "      <td>0.000000</td>\n",
       "      <td>0.1050</td>\n",
       "      <td>0.446</td>\n",
       "      <td>109.891</td>\n",
       "    </tr>\n",
       "    <tr>\n",
       "      <th>3</th>\n",
       "      <td>Sunflower - Spider-Man: Into the Spider-Verse</td>\n",
       "      <td>Post Malone</td>\n",
       "      <td>Hollywood's Bleeding</td>\n",
       "      <td>2019-09-06</td>\n",
       "      <td>86</td>\n",
       "      <td>157560</td>\n",
       "      <td>0.755</td>\n",
       "      <td>0.522</td>\n",
       "      <td>2</td>\n",
       "      <td>-4.368</td>\n",
       "      <td>1</td>\n",
       "      <td>0.0575</td>\n",
       "      <td>0.53300</td>\n",
       "      <td>0.000000</td>\n",
       "      <td>0.0685</td>\n",
       "      <td>0.925</td>\n",
       "      <td>89.960</td>\n",
       "    </tr>\n",
       "    <tr>\n",
       "      <th>4</th>\n",
       "      <td>Starboy</td>\n",
       "      <td>The Weeknd</td>\n",
       "      <td>Starboy</td>\n",
       "      <td>2016-11-25</td>\n",
       "      <td>93</td>\n",
       "      <td>230453</td>\n",
       "      <td>0.679</td>\n",
       "      <td>0.587</td>\n",
       "      <td>7</td>\n",
       "      <td>-7.015</td>\n",
       "      <td>1</td>\n",
       "      <td>0.2760</td>\n",
       "      <td>0.14100</td>\n",
       "      <td>0.000006</td>\n",
       "      <td>0.1370</td>\n",
       "      <td>0.486</td>\n",
       "      <td>186.003</td>\n",
       "    </tr>\n",
       "  </tbody>\n",
       "</table>\n",
       "</div>"
      ],
      "text/plain": [
       "                                      Track Name    Artist Name  \\\n",
       "0                                Blinding Lights     The Weeknd   \n",
       "1                                   Shape of You     Ed Sheeran   \n",
       "2                              Someone You Loved  Lewis Capaldi   \n",
       "3  Sunflower - Spider-Man: Into the Spider-Verse    Post Malone   \n",
       "4                                        Starboy     The Weeknd   \n",
       "\n",
       "                                          Album Name Release Date  Popularity  \\\n",
       "0                               After Hours (Deluxe)   2020-04-03          49   \n",
       "1                                        Ã· (Deluxe)   2017-03-03          88   \n",
       "2  Divinely Uninspired To A Hellish Extent (Exten...   2019-11-22          50   \n",
       "3                               Hollywood's Bleeding   2019-09-06          86   \n",
       "4                                            Starboy   2016-11-25          93   \n",
       "\n",
       "   Duration (ms)  Danceability  Energy  Key  Loudness  Mode  Speechiness  \\\n",
       "0         200046         0.518   0.727    1    -5.947     1       0.0557   \n",
       "1         233713         0.825   0.652    1    -3.183     0       0.0802   \n",
       "2         182173         0.501   0.405    1    -5.679     1       0.0319   \n",
       "3         157560         0.755   0.522    2    -4.368     1       0.0575   \n",
       "4         230453         0.679   0.587    7    -7.015     1       0.2760   \n",
       "\n",
       "   Acousticness  Instrumentalness  Liveness  Valence    Tempo  \n",
       "0       0.00153          0.000152    0.0882    0.342  170.962  \n",
       "1       0.58100          0.000000    0.0931    0.931   95.977  \n",
       "2       0.75100          0.000000    0.1050    0.446  109.891  \n",
       "3       0.53300          0.000000    0.0685    0.925   89.960  \n",
       "4       0.14100          0.000006    0.1370    0.486  186.003  "
      ]
     },
     "execution_count": 4,
     "metadata": {},
     "output_type": "execute_result"
    }
   ],
   "source": [
    "dataset.head()"
   ]
  },
  {
   "cell_type": "code",
   "execution_count": 5,
   "id": "d0bab3b9",
   "metadata": {},
   "outputs": [
    {
     "name": "stdout",
     "output_type": "stream",
     "text": [
      "<class 'pandas.core.frame.DataFrame'>\n",
      "RangeIndex: 2001 entries, 0 to 2000\n",
      "Data columns (total 17 columns):\n",
      " #   Column            Non-Null Count  Dtype  \n",
      "---  ------            --------------  -----  \n",
      " 0   Track Name        2001 non-null   object \n",
      " 1   Artist Name       2001 non-null   object \n",
      " 2   Album Name        2001 non-null   object \n",
      " 3   Release Date      2001 non-null   object \n",
      " 4   Popularity        2001 non-null   int64  \n",
      " 5   Duration (ms)     2001 non-null   int64  \n",
      " 6   Danceability      2001 non-null   float64\n",
      " 7   Energy            2001 non-null   float64\n",
      " 8   Key               2001 non-null   int64  \n",
      " 9   Loudness          2001 non-null   float64\n",
      " 10  Mode              2001 non-null   int64  \n",
      " 11  Speechiness       2001 non-null   float64\n",
      " 12  Acousticness      2001 non-null   float64\n",
      " 13  Instrumentalness  2001 non-null   float64\n",
      " 14  Liveness          2001 non-null   float64\n",
      " 15  Valence           2001 non-null   float64\n",
      " 16  Tempo             2001 non-null   float64\n",
      "dtypes: float64(9), int64(4), object(4)\n",
      "memory usage: 265.9+ KB\n"
     ]
    }
   ],
   "source": [
    "#Overview dos tipos do TCC\n",
    "dataset.info()"
   ]
  },
  {
   "cell_type": "code",
   "execution_count": 6,
   "id": "f473a157",
   "metadata": {},
   "outputs": [],
   "source": [
    "dataset['Release Date'] = pd.to_datetime(dataset['Release Date'])"
   ]
  },
  {
   "cell_type": "code",
   "execution_count": 7,
   "id": "98336dc6",
   "metadata": {},
   "outputs": [
    {
     "name": "stdout",
     "output_type": "stream",
     "text": [
      "<class 'pandas.core.frame.DataFrame'>\n",
      "RangeIndex: 2001 entries, 0 to 2000\n",
      "Data columns (total 17 columns):\n",
      " #   Column            Non-Null Count  Dtype         \n",
      "---  ------            --------------  -----         \n",
      " 0   Track Name        2001 non-null   object        \n",
      " 1   Artist Name       2001 non-null   object        \n",
      " 2   Album Name        2001 non-null   object        \n",
      " 3   Release Date      2001 non-null   datetime64[ns]\n",
      " 4   Popularity        2001 non-null   int64         \n",
      " 5   Duration (ms)     2001 non-null   int64         \n",
      " 6   Danceability      2001 non-null   float64       \n",
      " 7   Energy            2001 non-null   float64       \n",
      " 8   Key               2001 non-null   int64         \n",
      " 9   Loudness          2001 non-null   float64       \n",
      " 10  Mode              2001 non-null   int64         \n",
      " 11  Speechiness       2001 non-null   float64       \n",
      " 12  Acousticness      2001 non-null   float64       \n",
      " 13  Instrumentalness  2001 non-null   float64       \n",
      " 14  Liveness          2001 non-null   float64       \n",
      " 15  Valence           2001 non-null   float64       \n",
      " 16  Tempo             2001 non-null   float64       \n",
      "dtypes: datetime64[ns](1), float64(9), int64(4), object(3)\n",
      "memory usage: 265.9+ KB\n"
     ]
    }
   ],
   "source": [
    "dataset.info()"
   ]
  },
  {
   "cell_type": "code",
   "execution_count": 8,
   "id": "d40c42c7",
   "metadata": {},
   "outputs": [
    {
     "data": {
      "text/plain": [
       "(2001, 17)"
      ]
     },
     "execution_count": 8,
     "metadata": {},
     "output_type": "execute_result"
    }
   ],
   "source": [
    "dataset.shape"
   ]
  },
  {
   "cell_type": "code",
   "execution_count": 9,
   "id": "90731c68",
   "metadata": {},
   "outputs": [
    {
     "data": {
      "text/plain": [
       "Track Name          0\n",
       "Artist Name         0\n",
       "Album Name          0\n",
       "Release Date        0\n",
       "Popularity          0\n",
       "Duration (ms)       0\n",
       "Danceability        0\n",
       "Energy              0\n",
       "Key                 0\n",
       "Loudness            0\n",
       "Mode                0\n",
       "Speechiness         0\n",
       "Acousticness        0\n",
       "Instrumentalness    0\n",
       "Liveness            0\n",
       "Valence             0\n",
       "Tempo               0\n",
       "dtype: int64"
      ]
     },
     "execution_count": 9,
     "metadata": {},
     "output_type": "execute_result"
    }
   ],
   "source": [
    "#Verificando se há valores nulos ou faltantes nos dados\n",
    "missing = dataset.isnull().sum()\n",
    "missing"
   ]
  },
  {
   "cell_type": "markdown",
   "id": "7363297c",
   "metadata": {},
   "source": [
    "3.Análise Exploratória e Visualização dos dados"
   ]
  },
  {
   "cell_type": "code",
   "execution_count": null,
   "id": "f787edca",
   "metadata": {},
   "outputs": [],
   "source": [
    "dataset.describe()"
   ]
  },
  {
   "cell_type": "code",
   "execution_count": null,
   "id": "3ad0a4fb",
   "metadata": {},
   "outputs": [],
   "source": [
    "print((dataset == 0).sum())"
   ]
  },
  {
   "cell_type": "code",
   "execution_count": null,
   "id": "668d9a8b",
   "metadata": {},
   "outputs": [],
   "source": [
    "#Visualizando a distribuição da popularidade\n",
    "plt.figure(figsize=(6,3))\n",
    "sns.histplot(dataset['Popularity'], kde=True)\n",
    "plt.title('Popularidade', fontsize=14)\n",
    "plt.show()"
   ]
  },
  {
   "cell_type": "code",
   "execution_count": null,
   "id": "155c7524",
   "metadata": {},
   "outputs": [],
   "source": [
    "#Boxplot - verificação de outliers\n",
    "plt.figure(figsize=(6,3))\n",
    "sns.boxplot(x= dataset['Popularity'])\n",
    "plt.title('Popularidade', fontsize=14)\n",
    "plt.show()"
   ]
  },
  {
   "cell_type": "code",
   "execution_count": null,
   "id": "5746a8a2",
   "metadata": {},
   "outputs": [],
   "source": [
    "#Matriz de correlação\n",
    "matriz_correlacao = dataset.corr()\n",
    "\n",
    "plt.figure(figsize=(10, 8))\n",
    "sns.heatmap(matriz_correlacao, annot=True, cmap='coolwarm', fmt=\".2f\")\n",
    "plt.show()"
   ]
  },
  {
   "cell_type": "code",
   "execution_count": null,
   "id": "20e05345",
   "metadata": {},
   "outputs": [],
   "source": [
    "#Histogramas\n",
    "dataset.hist(figsize=(12, 9))\n",
    "plt.show()"
   ]
  },
  {
   "cell_type": "code",
   "execution_count": null,
   "id": "53ecf815",
   "metadata": {},
   "outputs": [],
   "source": [
    "#Ano de lançamento\n",
    "plt.figure(figsize=(10, 6))\n",
    "plt.hist(dataset['Release Date'], bins=30, color='skyblue', edgecolor='black')\n",
    "plt.title('Distribuição dos anos de lançamento')\n",
    "plt.xlabel('Release Date')\n",
    "plt.ylabel('Frequência')\n",
    "plt.show()"
   ]
  },
  {
   "cell_type": "markdown",
   "id": "02af1a32",
   "metadata": {},
   "source": [
    "### 4. Pré processamento dos dados"
   ]
  },
  {
   "cell_type": "code",
   "execution_count": null,
   "id": "3d17fd9a",
   "metadata": {},
   "outputs": [],
   "source": [
    "#One hot encoding\n",
    "#dataset = pd.get_dummies(dataset, columns=['Key'], prefix='Key', drop_first=False, dtype='int64')\n",
    "#dataset = pd.get_dummies(dataset, columns=['Mode'], prefix='Mode', drop_first=False, dtype='int64')"
   ]
  },
  {
   "cell_type": "code",
   "execution_count": null,
   "id": "cf93b7ee",
   "metadata": {},
   "outputs": [],
   "source": [
    "#Deletando colunas de texto, que não serão necessárias para a análise\n",
    "colunasremovidas = ['Track Name', 'Artist Name', 'Album Name', 'Instrumentalness']\n",
    "dataset = dataset.drop(colunasremovidas, axis=1)"
   ]
  },
  {
   "cell_type": "code",
   "execution_count": null,
   "id": "b1ecaf7c",
   "metadata": {},
   "outputs": [],
   "source": [
    "dataset['Release Date'] = dataset['Release Date'].dt.year\n",
    "dataset['Release Date'] = dataset['Release Date'].astype('int64')"
   ]
  },
  {
   "cell_type": "code",
   "execution_count": null,
   "id": "631b2c08",
   "metadata": {},
   "outputs": [],
   "source": [
    "dataset.columns"
   ]
  },
  {
   "cell_type": "code",
   "execution_count": null,
   "id": "f8371292",
   "metadata": {},
   "outputs": [],
   "source": [
    "ordemcolunas = [ 'Release Date',\n",
    "       'Duration (ms)', 'Danceability', 'Energy', 'Loudness', 'Speechiness',\n",
    "       'Acousticness', 'Liveness', 'Valence', 'Tempo',\n",
    "       'Key_0', 'Key_1', 'Key_2', 'Key_3', 'Key_4', 'Key_5', 'Key_6', 'Key_7',\n",
    "       'Key_8', 'Key_9', 'Key_10', 'Key_11', 'Mode_0', 'Mode_1', 'Popularity']\n",
    "dataset = dataset[ordemcolunas]"
   ]
  },
  {
   "cell_type": "code",
   "execution_count": null,
   "id": "6a98ab20",
   "metadata": {},
   "outputs": [],
   "source": [
    "X = dataset.iloc[:,:-1]\n",
    "y = dataset.iloc[:, -1]"
   ]
  },
  {
   "cell_type": "code",
   "execution_count": null,
   "id": "a1b9dd4b",
   "metadata": {},
   "outputs": [],
   "source": [
    "X.head()"
   ]
  },
  {
   "cell_type": "code",
   "execution_count": null,
   "id": "cd2f3db4",
   "metadata": {},
   "outputs": [],
   "source": [
    "y.head()"
   ]
  },
  {
   "cell_type": "code",
   "execution_count": null,
   "id": "fdbf91a2",
   "metadata": {},
   "outputs": [],
   "source": [
    "X_train, X_test, y_train, y_test = train_test_split(X,y, test_size = 0.3, random_state = 0)"
   ]
  },
  {
   "cell_type": "markdown",
   "id": "4711d04d",
   "metadata": {},
   "source": [
    "### Modelagem e Avaliação do Modelo"
   ]
  },
  {
   "cell_type": "code",
   "execution_count": null,
   "id": "d0a3aeb6",
   "metadata": {},
   "outputs": [],
   "source": [
    "#Random Forest com os melhores hiperparametros - utilizando o Grid Search (Pode demorar de 1 a 2 minutos para rodar)\n",
    "param_grid = {'n_estimators': [50, 100, 200],\n",
    "    'max_depth': [None, 10, 20],\n",
    "    'min_samples_split': [2, 5, 10],\n",
    "    'min_samples_leaf': [1, 2, 4],\n",
    "    'max_features': ['auto']}\n",
    "\n",
    "rf_model = RandomForestRegressor()\n",
    "grid_search = GridSearchCV(estimator=rf_model, param_grid=param_grid, cv=5, scoring='neg_mean_squared_error')\n",
    "grid_search.fit(X_train, y_train)\n",
    "\n",
    "#Melhores hiperparâmetros encontrados\n",
    "best_params = grid_search.best_params_\n",
    "best_rf_model = RandomForestRegressor(**best_params)\n",
    "best_rf_model.fit(X_train, y_train)\n",
    "\n",
    "#Previsão\n",
    "y_pred = best_rf_model.predict(X_test)\n",
    "\n",
    "#Scores\n",
    "print(\"R2 Score:\", r2_score(y_test, y_pred))\n",
    "print(\"Mean Squared Error:\", mean_squared_error(y_test, y_pred))"
   ]
  },
  {
   "cell_type": "code",
   "execution_count": null,
   "id": "c6bce308",
   "metadata": {},
   "outputs": [],
   "source": [
    "#Árvore de Decisão\n",
    "decision_tree_model = DecisionTreeRegressor(max_depth=3, ccp_alpha=3)\n",
    "decision_tree_model.fit(X_train, y_train)\n",
    "\n",
    "#Prediction\n",
    "y_pred = decision_tree_model.predict(X_test)\n",
    "\n",
    "#Scores\n",
    "print(\"R2 Score:\", r2_score(y_test, y_pred))\n",
    "print(\"Mean Squared Error:\", mean_squared_error(y_test, y_pred))"
   ]
  },
  {
   "cell_type": "code",
   "execution_count": null,
   "id": "7000687a",
   "metadata": {},
   "outputs": [],
   "source": []
  }
 ],
 "metadata": {
  "kernelspec": {
   "display_name": "Python 3 (ipykernel)",
   "language": "python",
   "name": "python3"
  },
  "language_info": {
   "codemirror_mode": {
    "name": "ipython",
    "version": 3
   },
   "file_extension": ".py",
   "mimetype": "text/x-python",
   "name": "python",
   "nbconvert_exporter": "python",
   "pygments_lexer": "ipython3",
   "version": "3.9.13"
  }
 },
 "nbformat": 4,
 "nbformat_minor": 5
}
